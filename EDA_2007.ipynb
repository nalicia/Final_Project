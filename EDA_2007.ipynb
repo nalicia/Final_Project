{
 "cells": [
  {
   "cell_type": "code",
   "execution_count": 1,
   "id": "0fd364a2",
   "metadata": {},
   "outputs": [],
   "source": [
    " # Dependencies\n",
    "import pandas as pd\n",
    "import numpy as np\n",
    "import seaborn as sn\n",
    "import matplotlib as mpl\n",
    "import matplotlib.pyplot as plt\n",
    "from sklearn.datasets import make_blobs\n",
    "import sklearn as skl\n",
    "from sklearn.linear_model import LinearRegression\n",
    "import warnings\n",
    "warnings.filterwarnings('ignore')"
   ]
  },
  {
   "cell_type": "code",
   "execution_count": null,
   "id": "9a14ae7e",
   "metadata": {},
   "outputs": [],
   "source": [
    "# import in csv and name columns\n",
    "\n",
    "# CRIM - per capita crime rate by town\n",
    "# ZN - proportion of residential land zoned for lots over 25,000 sq.ft.\n",
    "# INDUS - proportion of non-retail business acres per town.\n",
    "# CHAS - Charles River dummy variable (1 if tract bounds river; 0 otherwise)\n",
    "# NOX - nitric oxides concentration (parts per 10 million)\n",
    "# RM - average number of rooms per dwelling\n",
    "# AGE - proportion of owner-occupied units built prior to 1940\n",
    "# DIS - weighted distances to five Boston employment centres\n",
    "# RAD - index of accessibility to radial highways\n",
    "# TAX - full-value property-tax rate per $10,000\n",
    "# PTRATIO - pupil-teacher ratio by town\n",
    "# B - 1000(Bk - 0.63)^2 where Bk is the proportion of blacks by town\n",
    "# LSTAT - percentage of lower status of the population\n",
    "# MEDV - Median value of owner-occupied homes in $10000's"
   ]
  },
  {
   "cell_type": "code",
   "execution_count": 2,
   "id": "4429418a",
   "metadata": {},
   "outputs": [],
   "source": [
    " # Name of the CSV file\n",
    "file = '/Users/cnewe/desktop/classwork/mod20_final Project/final_project'\n",
    "#Read CSV file in DataFrame\n",
    "boston_data = pd.read_csv(file, encoding=\"ISO-8859-1\")\n",
    "#Check DataFrame\n",
    "boston_data.head()"
   ]
  },
  {
   "cell_type": "code",
   "execution_count": null,
   "id": "814df669",
   "metadata": {},
   "outputs": [],
   "source": [
    "# Keep town number for classification\n",
    "# Lat and long is pretty similar\n",
    "print(boston_data.keys())"
   ]
  },
  {
   "cell_type": "code",
   "execution_count": 5,
   "id": "59f08f3c",
   "metadata": {},
   "outputs": [
    {
     "data": {
      "text/plain": [
       "(59010, 51)"
      ]
     },
     "execution_count": 5,
     "metadata": {},
     "output_type": "execute_result"
    }
   ],
   "source": [
    "#Rows x Columns\n",
    "df_details.shape"
   ]
  },
  {
   "cell_type": "code",
   "execution_count": 6,
   "id": "a10754d8",
   "metadata": {},
   "outputs": [
    {
     "name": "stdout",
     "output_type": "stream",
     "text": [
      "<class 'pandas.core.frame.DataFrame'>\n",
      "RangeIndex: 59010 entries, 0 to 59009\n",
      "Data columns (total 51 columns):\n",
      " #   Column              Non-Null Count  Dtype  \n",
      "---  ------              --------------  -----  \n",
      " 0   BEGIN_YEARMONTH     59010 non-null  int64  \n",
      " 1   BEGIN_DAY           59010 non-null  int64  \n",
      " 2   BEGIN_TIME          59010 non-null  int64  \n",
      " 3   END_YEARMONTH       59010 non-null  int64  \n",
      " 4   END_DAY             59010 non-null  int64  \n",
      " 5   END_TIME            59010 non-null  int64  \n",
      " 6   EPISODE_ID          59010 non-null  int64  \n",
      " 7   EVENT_ID            59010 non-null  int64  \n",
      " 8   STATE               59010 non-null  object \n",
      " 9   STATE_FIPS          59010 non-null  int64  \n",
      " 10  YEAR                59010 non-null  int64  \n",
      " 11  MONTH_NAME          59010 non-null  object \n",
      " 12  EVENT_TYPE          59010 non-null  object \n",
      " 13  CZ_TYPE             59010 non-null  object \n",
      " 14  CZ_FIPS             59010 non-null  int64  \n",
      " 15  CZ_NAME             59010 non-null  object \n",
      " 16  WFO                 59010 non-null  object \n",
      " 17  BEGIN_DATE_TIME     59010 non-null  object \n",
      " 18  CZ_TIMEZONE         59010 non-null  object \n",
      " 19  END_DATE_TIME       59010 non-null  object \n",
      " 20  INJURIES_DIRECT     59010 non-null  int64  \n",
      " 21  INJURIES_INDIRECT   59010 non-null  int64  \n",
      " 22  DEATHS_DIRECT       59010 non-null  int64  \n",
      " 23  DEATHS_INDIRECT     59010 non-null  int64  \n",
      " 24  DAMAGE_PROPERTY     54674 non-null  object \n",
      " 25  DAMAGE_CROPS        54282 non-null  object \n",
      " 26  SOURCE              59010 non-null  object \n",
      " 27  MAGNITUDE           29751 non-null  float64\n",
      " 28  MAGNITUDE_TYPE      16979 non-null  object \n",
      " 29  FLOOD_CAUSE         5493 non-null   object \n",
      " 30  CATEGORY            49 non-null     float64\n",
      " 31  TOR_F_SCALE         1241 non-null   object \n",
      " 32  TOR_LENGTH          1241 non-null   float64\n",
      " 33  TOR_WIDTH           1241 non-null   float64\n",
      " 34  TOR_OTHER_WFO       157 non-null    object \n",
      " 35  TOR_OTHER_CZ_STATE  157 non-null    object \n",
      " 36  TOR_OTHER_CZ_FIPS   157 non-null    float64\n",
      " 37  TOR_OTHER_CZ_NAME   157 non-null    object \n",
      " 38  BEGIN_RANGE         35722 non-null  float64\n",
      " 39  BEGIN_AZIMUTH       35722 non-null  object \n",
      " 40  BEGIN_LOCATION      35722 non-null  object \n",
      " 41  END_RANGE           35722 non-null  float64\n",
      " 42  END_AZIMUTH         35722 non-null  object \n",
      " 43  END_LOCATION        35722 non-null  object \n",
      " 44  BEGIN_LAT           35722 non-null  float64\n",
      " 45  BEGIN_LON           35722 non-null  float64\n",
      " 46  END_LAT             35722 non-null  float64\n",
      " 47  END_LON             35722 non-null  float64\n",
      " 48  EPISODE_NARRATIVE   59010 non-null  object \n",
      " 49  EVENT_NARRATIVE     33904 non-null  object \n",
      " 50  DATA_SOURCE         59010 non-null  object \n",
      "dtypes: float64(11), int64(15), object(25)\n",
      "memory usage: 23.0+ MB\n"
     ]
    }
   ],
   "source": [
    "df_details.info()"
   ]
  },
  {
   "cell_type": "code",
   "execution_count": 7,
   "id": "b73c47d4",
   "metadata": {},
   "outputs": [
    {
     "name": "stdout",
     "output_type": "stream",
     "text": [
      "number of duplicate rows:  (0, 51)\n"
     ]
    }
   ],
   "source": [
    "#Checking for duplicate rows\n",
    "\n",
    "duplicate_rows_df = df_details[df_details.duplicated()]\n",
    "print('number of duplicate rows: ', duplicate_rows_df.shape)"
   ]
  },
  {
   "cell_type": "code",
   "execution_count": 8,
   "id": "50b0fcbb",
   "metadata": {},
   "outputs": [
    {
     "data": {
      "text/html": [
       "<div>\n",
       "<style scoped>\n",
       "    .dataframe tbody tr th:only-of-type {\n",
       "        vertical-align: middle;\n",
       "    }\n",
       "\n",
       "    .dataframe tbody tr th {\n",
       "        vertical-align: top;\n",
       "    }\n",
       "\n",
       "    .dataframe thead th {\n",
       "        text-align: right;\n",
       "    }\n",
       "</style>\n",
       "<table border=\"1\" class=\"dataframe\">\n",
       "  <thead>\n",
       "    <tr style=\"text-align: right;\">\n",
       "      <th></th>\n",
       "      <th>BEGIN_YEARMONTH</th>\n",
       "      <th>BEGIN_DAY</th>\n",
       "      <th>BEGIN_TIME</th>\n",
       "      <th>END_YEARMONTH</th>\n",
       "      <th>END_DAY</th>\n",
       "      <th>END_TIME</th>\n",
       "      <th>EPISODE_ID</th>\n",
       "      <th>EVENT_ID</th>\n",
       "      <th>STATE_FIPS</th>\n",
       "      <th>YEAR</th>\n",
       "      <th>...</th>\n",
       "      <th>CATEGORY</th>\n",
       "      <th>TOR_LENGTH</th>\n",
       "      <th>TOR_WIDTH</th>\n",
       "      <th>TOR_OTHER_CZ_FIPS</th>\n",
       "      <th>BEGIN_RANGE</th>\n",
       "      <th>END_RANGE</th>\n",
       "      <th>BEGIN_LAT</th>\n",
       "      <th>BEGIN_LON</th>\n",
       "      <th>END_LAT</th>\n",
       "      <th>END_LON</th>\n",
       "    </tr>\n",
       "  </thead>\n",
       "  <tbody>\n",
       "    <tr>\n",
       "      <th>count</th>\n",
       "      <td>59010.000000</td>\n",
       "      <td>59010.000000</td>\n",
       "      <td>59010.000000</td>\n",
       "      <td>59010.000000</td>\n",
       "      <td>59010.000000</td>\n",
       "      <td>59010.000000</td>\n",
       "      <td>59010.000000</td>\n",
       "      <td>59010.000000</td>\n",
       "      <td>59010.000000</td>\n",
       "      <td>59010.0</td>\n",
       "      <td>...</td>\n",
       "      <td>49.0</td>\n",
       "      <td>1241.000000</td>\n",
       "      <td>1241.000000</td>\n",
       "      <td>157.000000</td>\n",
       "      <td>35722.000000</td>\n",
       "      <td>35722.000000</td>\n",
       "      <td>35722.000000</td>\n",
       "      <td>35722.000000</td>\n",
       "      <td>35722.000000</td>\n",
       "      <td>35722.000000</td>\n",
       "    </tr>\n",
       "    <tr>\n",
       "      <th>mean</th>\n",
       "      <td>200706.189561</td>\n",
       "      <td>13.985155</td>\n",
       "      <td>1241.643128</td>\n",
       "      <td>200706.189561</td>\n",
       "      <td>16.141349</td>\n",
       "      <td>1478.287460</td>\n",
       "      <td>6935.075682</td>\n",
       "      <td>39788.723945</td>\n",
       "      <td>31.878885</td>\n",
       "      <td>2007.0</td>\n",
       "      <td>...</td>\n",
       "      <td>1.0</td>\n",
       "      <td>2.947985</td>\n",
       "      <td>153.792103</td>\n",
       "      <td>108.936306</td>\n",
       "      <td>2.583394</td>\n",
       "      <td>2.643693</td>\n",
       "      <td>38.159862</td>\n",
       "      <td>-91.050765</td>\n",
       "      <td>38.159030</td>\n",
       "      <td>-91.042328</td>\n",
       "    </tr>\n",
       "    <tr>\n",
       "      <th>std</th>\n",
       "      <td>3.069982</td>\n",
       "      <td>9.039472</td>\n",
       "      <td>702.222593</td>\n",
       "      <td>3.069982</td>\n",
       "      <td>9.115030</td>\n",
       "      <td>605.806092</td>\n",
       "      <td>3340.246651</td>\n",
       "      <td>18926.649485</td>\n",
       "      <td>17.273970</td>\n",
       "      <td>0.0</td>\n",
       "      <td>...</td>\n",
       "      <td>0.0</td>\n",
       "      <td>4.071044</td>\n",
       "      <td>294.180993</td>\n",
       "      <td>91.516475</td>\n",
       "      <td>6.091724</td>\n",
       "      <td>6.222080</td>\n",
       "      <td>5.366017</td>\n",
       "      <td>10.627334</td>\n",
       "      <td>5.366066</td>\n",
       "      <td>10.625819</td>\n",
       "    </tr>\n",
       "    <tr>\n",
       "      <th>min</th>\n",
       "      <td>200701.000000</td>\n",
       "      <td>1.000000</td>\n",
       "      <td>0.000000</td>\n",
       "      <td>200701.000000</td>\n",
       "      <td>1.000000</td>\n",
       "      <td>0.000000</td>\n",
       "      <td>765.000000</td>\n",
       "      <td>3419.000000</td>\n",
       "      <td>1.000000</td>\n",
       "      <td>2007.0</td>\n",
       "      <td>...</td>\n",
       "      <td>1.0</td>\n",
       "      <td>0.010000</td>\n",
       "      <td>2.000000</td>\n",
       "      <td>1.000000</td>\n",
       "      <td>0.000000</td>\n",
       "      <td>0.000000</td>\n",
       "      <td>-14.300000</td>\n",
       "      <td>-170.600000</td>\n",
       "      <td>-14.300000</td>\n",
       "      <td>-170.600000</td>\n",
       "    </tr>\n",
       "    <tr>\n",
       "      <th>25%</th>\n",
       "      <td>200704.000000</td>\n",
       "      <td>6.000000</td>\n",
       "      <td>650.000000</td>\n",
       "      <td>200704.000000</td>\n",
       "      <td>8.000000</td>\n",
       "      <td>1100.000000</td>\n",
       "      <td>4160.500000</td>\n",
       "      <td>24055.250000</td>\n",
       "      <td>19.000000</td>\n",
       "      <td>2007.0</td>\n",
       "      <td>...</td>\n",
       "      <td>1.0</td>\n",
       "      <td>0.300000</td>\n",
       "      <td>30.000000</td>\n",
       "      <td>47.000000</td>\n",
       "      <td>0.000000</td>\n",
       "      <td>0.000000</td>\n",
       "      <td>34.380400</td>\n",
       "      <td>-98.420000</td>\n",
       "      <td>34.388375</td>\n",
       "      <td>-98.400000</td>\n",
       "    </tr>\n",
       "    <tr>\n",
       "      <th>50%</th>\n",
       "      <td>200706.000000</td>\n",
       "      <td>14.000000</td>\n",
       "      <td>1440.000000</td>\n",
       "      <td>200706.000000</td>\n",
       "      <td>16.000000</td>\n",
       "      <td>1600.000000</td>\n",
       "      <td>6627.500000</td>\n",
       "      <td>39452.500000</td>\n",
       "      <td>30.000000</td>\n",
       "      <td>2007.0</td>\n",
       "      <td>...</td>\n",
       "      <td>1.0</td>\n",
       "      <td>1.290000</td>\n",
       "      <td>50.000000</td>\n",
       "      <td>83.000000</td>\n",
       "      <td>1.000000</td>\n",
       "      <td>1.000000</td>\n",
       "      <td>38.540700</td>\n",
       "      <td>-91.810000</td>\n",
       "      <td>38.539950</td>\n",
       "      <td>-91.800000</td>\n",
       "    </tr>\n",
       "    <tr>\n",
       "      <th>75%</th>\n",
       "      <td>200708.000000</td>\n",
       "      <td>22.000000</td>\n",
       "      <td>1800.000000</td>\n",
       "      <td>200708.000000</td>\n",
       "      <td>24.000000</td>\n",
       "      <td>1905.000000</td>\n",
       "      <td>9749.750000</td>\n",
       "      <td>55105.750000</td>\n",
       "      <td>46.000000</td>\n",
       "      <td>2007.0</td>\n",
       "      <td>...</td>\n",
       "      <td>1.0</td>\n",
       "      <td>4.000000</td>\n",
       "      <td>150.000000</td>\n",
       "      <td>145.000000</td>\n",
       "      <td>3.000000</td>\n",
       "      <td>3.000000</td>\n",
       "      <td>42.100000</td>\n",
       "      <td>-82.998725</td>\n",
       "      <td>42.100000</td>\n",
       "      <td>-82.980000</td>\n",
       "    </tr>\n",
       "    <tr>\n",
       "      <th>max</th>\n",
       "      <td>200712.000000</td>\n",
       "      <td>31.000000</td>\n",
       "      <td>2359.000000</td>\n",
       "      <td>200712.000000</td>\n",
       "      <td>31.000000</td>\n",
       "      <td>2359.000000</td>\n",
       "      <td>77492.000000</td>\n",
       "      <td>467538.000000</td>\n",
       "      <td>99.000000</td>\n",
       "      <td>2007.0</td>\n",
       "      <td>...</td>\n",
       "      <td>1.0</td>\n",
       "      <td>32.460000</td>\n",
       "      <td>3872.000000</td>\n",
       "      <td>483.000000</td>\n",
       "      <td>520.000000</td>\n",
       "      <td>520.000000</td>\n",
       "      <td>64.513100</td>\n",
       "      <td>-64.700000</td>\n",
       "      <td>64.280600</td>\n",
       "      <td>-64.700000</td>\n",
       "    </tr>\n",
       "  </tbody>\n",
       "</table>\n",
       "<p>8 rows × 26 columns</p>\n",
       "</div>"
      ],
      "text/plain": [
       "       BEGIN_YEARMONTH     BEGIN_DAY    BEGIN_TIME  END_YEARMONTH  \\\n",
       "count     59010.000000  59010.000000  59010.000000   59010.000000   \n",
       "mean     200706.189561     13.985155   1241.643128  200706.189561   \n",
       "std           3.069982      9.039472    702.222593       3.069982   \n",
       "min      200701.000000      1.000000      0.000000  200701.000000   \n",
       "25%      200704.000000      6.000000    650.000000  200704.000000   \n",
       "50%      200706.000000     14.000000   1440.000000  200706.000000   \n",
       "75%      200708.000000     22.000000   1800.000000  200708.000000   \n",
       "max      200712.000000     31.000000   2359.000000  200712.000000   \n",
       "\n",
       "            END_DAY      END_TIME    EPISODE_ID       EVENT_ID    STATE_FIPS  \\\n",
       "count  59010.000000  59010.000000  59010.000000   59010.000000  59010.000000   \n",
       "mean      16.141349   1478.287460   6935.075682   39788.723945     31.878885   \n",
       "std        9.115030    605.806092   3340.246651   18926.649485     17.273970   \n",
       "min        1.000000      0.000000    765.000000    3419.000000      1.000000   \n",
       "25%        8.000000   1100.000000   4160.500000   24055.250000     19.000000   \n",
       "50%       16.000000   1600.000000   6627.500000   39452.500000     30.000000   \n",
       "75%       24.000000   1905.000000   9749.750000   55105.750000     46.000000   \n",
       "max       31.000000   2359.000000  77492.000000  467538.000000     99.000000   \n",
       "\n",
       "          YEAR  ...  CATEGORY   TOR_LENGTH    TOR_WIDTH  TOR_OTHER_CZ_FIPS  \\\n",
       "count  59010.0  ...      49.0  1241.000000  1241.000000         157.000000   \n",
       "mean    2007.0  ...       1.0     2.947985   153.792103         108.936306   \n",
       "std        0.0  ...       0.0     4.071044   294.180993          91.516475   \n",
       "min     2007.0  ...       1.0     0.010000     2.000000           1.000000   \n",
       "25%     2007.0  ...       1.0     0.300000    30.000000          47.000000   \n",
       "50%     2007.0  ...       1.0     1.290000    50.000000          83.000000   \n",
       "75%     2007.0  ...       1.0     4.000000   150.000000         145.000000   \n",
       "max     2007.0  ...       1.0    32.460000  3872.000000         483.000000   \n",
       "\n",
       "        BEGIN_RANGE     END_RANGE     BEGIN_LAT     BEGIN_LON       END_LAT  \\\n",
       "count  35722.000000  35722.000000  35722.000000  35722.000000  35722.000000   \n",
       "mean       2.583394      2.643693     38.159862    -91.050765     38.159030   \n",
       "std        6.091724      6.222080      5.366017     10.627334      5.366066   \n",
       "min        0.000000      0.000000    -14.300000   -170.600000    -14.300000   \n",
       "25%        0.000000      0.000000     34.380400    -98.420000     34.388375   \n",
       "50%        1.000000      1.000000     38.540700    -91.810000     38.539950   \n",
       "75%        3.000000      3.000000     42.100000    -82.998725     42.100000   \n",
       "max      520.000000    520.000000     64.513100    -64.700000     64.280600   \n",
       "\n",
       "            END_LON  \n",
       "count  35722.000000  \n",
       "mean     -91.042328  \n",
       "std       10.625819  \n",
       "min     -170.600000  \n",
       "25%      -98.400000  \n",
       "50%      -91.800000  \n",
       "75%      -82.980000  \n",
       "max      -64.700000  \n",
       "\n",
       "[8 rows x 26 columns]"
      ]
     },
     "execution_count": 8,
     "metadata": {},
     "output_type": "execute_result"
    }
   ],
   "source": [
    "#provide the count, mean, standard deviation, minimum and maximum values and the quantities of the data.\n",
    "df_details.describe()"
   ]
  },
  {
   "cell_type": "code",
   "execution_count": 16,
   "id": "cf2faf9f",
   "metadata": {},
   "outputs": [
    {
     "data": {
      "text/plain": [
       "<AxesSubplot:>"
      ]
     },
     "execution_count": 16,
     "metadata": {},
     "output_type": "execute_result"
    },
    {
     "data": {
      "image/png": "[encoded data removed]",
      "text/plain": [
       "<Figure size 432x288 with 1 Axes>"
      ]
     },
     "metadata": {
      "needs_background": "light"
     },
     "output_type": "display_data"
    }
   ],
   "source": [
    "# Visually check for missing values\n",
    "\n",
    "sn.heatmap(df_details.isnull(), cbar=False, yticklabels=False, cmap='viridis')"
   ]
  },
  {
   "cell_type": "code",
   "execution_count": 10,
   "id": "f3f18662",
   "metadata": {},
   "outputs": [],
   "source": [
    "#function to find outliers in a column\n",
    "#input: dataframe column\n",
    "#output: an array of outlier values\n",
    "def findoutliers(col):\n",
    "    outliers = []\n",
    "    Q1 = col.quantile(.25)\n",
    "    Q3 = col.quantile(.75)\n",
    "    IQR = Q3-Q1\n",
    "    lower_limit=Q1-(1.5*IQR)\n",
    "    upper_limit=Q3+(1.5*IQR)\n",
    "    for out1 in col:\n",
    "        if out1>upper_limit or out1 < lower_limit:\n",
    "            outliers.append(out1)\n",
    "    \n",
    "    return np.array(outliers)"
   ]
  },
  {
   "cell_type": "code",
   "execution_count": 13,
   "id": "51844fbf",
   "metadata": {},
   "outputs": [],
   "source": [
    "#function to analysis a column of a dataframe\n",
    "#input: Column of a Dataframe\n",
    "#output: Outliers, Mean, Median, Missing Values, BoxPlot, DistributionPlot\n",
    "\n",
    "def plotchart(col):\n",
    "    fix, (ax1, ax2) = plt.subplots(1,2,figsize=(7,5))\n",
    "    sn.boxplot(col, orient='v', ax=ax1)\n",
    "    ax1.set_ylabel=col.name\n",
    "    ax1.set_title('Box plot of {}'.format(col.name))\n",
    "    sn.distplot(col,ax=ax2)\n",
    "    ax2.set_title('Distribution plot of {}'.format(col.name))\n",
    "    \n",
    "def analysis_column(col):\n",
    "    print('count of outlier ', len(findoutliers(col)))\n",
    "    print('Mean ', format(col.mean()))\n",
    "    print('Median ', format(col.median()))\n",
    "    print('Missing values', format(round(100*(col.isnull().sum()/len(col)),2)))\n",
    "\n",
    "    plotchart(col)"
   ]
  },
  {
   "cell_type": "code",
   "execution_count": 14,
   "id": "1f284569",
   "metadata": {},
   "outputs": [
    {
     "name": "stdout",
     "output_type": "stream",
     "text": [
      "count of outlier  0\n",
      "Mean  13.985155058464667\n",
      "Median  14.0\n",
      "Missing values 0.0\n"
     ]
    },
    {
     "data": {
      "image/png": "[encoded data removed]",
      "text/plain": [
       "<Figure size 504x360 with 2 Axes>"
      ]
     },
     "metadata": {
      "needs_background": "light"
     },
     "output_type": "display_data"
    }
   ],
   "source": [
    "#Run basic analysis on BEGIN_DAY column\n",
    "analysis_column(df_details.BEGIN_DAY)"
   ]
  },
  {
   "cell_type": "code",
   "execution_count": 18,
   "id": "0a7539a0",
   "metadata": {},
   "outputs": [
    {
     "data": {
      "text/plain": [
       "<AxesSubplot:>"
      ]
     },
     "execution_count": 18,
     "metadata": {},
     "output_type": "execute_result"
    },
    {
     "data": {
      "image/png": "[encoded data removed]",
      "text/plain": [
       "<Figure size 1080x1080 with 2 Axes>"
      ]
     },
     "metadata": {
      "needs_background": "light"
     },
     "output_type": "display_data"
    }
   ],
   "source": [
    "#heatmap of features\n",
    "#positive correlation is represented by dark shades and negative correlation by lighter shades.\n",
    "\n",
    "corr=df_details.corr(method='spearman')\n",
    "plt.figure(figsize=(15,15))\n",
    "sn.heatmap(corr, vmax=.8,linewidths=0.01, square=True, annot=False, cmap='RdBu', linecolor='black')"
   ]
  }
 ],
 "metadata": {
  "kernelspec": {
   "display_name": "Python 3 (ipykernel)",
   "language": "python",
   "name": "python3"
  },
  "language_info": {
   "codemirror_mode": {
    "name": "ipython",
    "version": 3
   },
   "file_extension": ".py",
   "mimetype": "text/x-python",
   "name": "python",
   "nbconvert_exporter": "python",
   "pygments_lexer": "ipython3",
   "version": "3.7.11"
  }
 },
 "nbformat": 4,
 "nbformat_minor": 5
}
